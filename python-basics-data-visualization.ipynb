{
 "cells": [
  {
   "cell_type": "code",
   "execution_count": 1,
   "id": "8aeb2d2c",
   "metadata": {
    "_cell_guid": "b1076dfc-b9ad-4769-8c92-a6c4dae69d19",
    "_uuid": "8f2839f25d086af736a60e9eeb907d3b93b6e0e5",
    "execution": {
     "iopub.execute_input": "2024-03-19T06:59:57.036427Z",
     "iopub.status.busy": "2024-03-19T06:59:57.035984Z",
     "iopub.status.idle": "2024-03-19T06:59:58.116571Z",
     "shell.execute_reply": "2024-03-19T06:59:58.115299Z"
    },
    "papermill": {
     "duration": 1.090322,
     "end_time": "2024-03-19T06:59:58.119784",
     "exception": false,
     "start_time": "2024-03-19T06:59:57.029462",
     "status": "completed"
    },
    "tags": []
   },
   "outputs": [],
   "source": [
    "# This Python 3 environment comes with many helpful analytics libraries installed\n",
    "# It is defined by the kaggle/python Docker image: https://github.com/kaggle/docker-python\n",
    "# For example, here's several helpful packages to load\n",
    "\n",
    "import numpy as np # linear algebra\n",
    "import pandas as pd # data processing, CSV file I/O (e.g. pd.read_csv)\n",
    "\n",
    "# Input data files are available in the read-only \"../input/\" directory\n",
    "# For example, running this (by clicking run or pressing Shift+Enter) will list all files under the input directory\n",
    "\n",
    "import os\n",
    "for dirname, _, filenames in os.walk('/kaggle/input'):\n",
    "    for filename in filenames:\n",
    "        print(os.path.join(dirname, filename))\n",
    "\n",
    "# You can write up to 20GB to the current directory (/kaggle/working/) that gets preserved as output when you create a version using \"Save & Run All\" \n",
    "# You can also write temporary files to /kaggle/temp/, but they won't be saved outside of the current session"
   ]
  },
  {
   "cell_type": "markdown",
   "id": "387934ba",
   "metadata": {
    "papermill": {
     "duration": 0.003692,
     "end_time": "2024-03-19T06:59:58.127839",
     "exception": false,
     "start_time": "2024-03-19T06:59:58.124147",
     "status": "completed"
    },
    "tags": []
   },
   "source": [
    "# fprintf and f-strings"
   ]
  },
  {
   "cell_type": "code",
   "execution_count": 2,
   "id": "124e6e85",
   "metadata": {
    "execution": {
     "iopub.execute_input": "2024-03-19T06:59:58.138323Z",
     "iopub.status.busy": "2024-03-19T06:59:58.137767Z",
     "iopub.status.idle": "2024-03-19T06:59:58.145357Z",
     "shell.execute_reply": "2024-03-19T06:59:58.143977Z"
    },
    "papermill": {
     "duration": 0.015706,
     "end_time": "2024-03-19T06:59:58.148007",
     "exception": false,
     "start_time": "2024-03-19T06:59:58.132301",
     "status": "completed"
    },
    "tags": []
   },
   "outputs": [
    {
     "name": "stdout",
     "output_type": "stream",
     "text": [
      "I owe you 4.55 dollar\n",
      "I owe you      4.550 dollar\n"
     ]
    }
   ],
   "source": [
    "num = 4.55\n",
    "sng = 'dollar'\n",
    "\n",
    "print('I owe you %g %s' %(num,sng)) # g is for number, s is for string\n",
    "print('I owe you %10.3f %s' %(num,sng)) # in total, there will be 10 characters by adding whitespace with 3 floating point"
   ]
  },
  {
   "cell_type": "code",
   "execution_count": 3,
   "id": "f6faf866",
   "metadata": {
    "execution": {
     "iopub.execute_input": "2024-03-19T06:59:58.158602Z",
     "iopub.status.busy": "2024-03-19T06:59:58.158090Z",
     "iopub.status.idle": "2024-03-19T06:59:58.176147Z",
     "shell.execute_reply": "2024-03-19T06:59:58.174415Z"
    },
    "papermill": {
     "duration": 0.0268,
     "end_time": "2024-03-19T06:59:58.179294",
     "exception": false,
     "start_time": "2024-03-19T06:59:58.152494",
     "status": "completed"
    },
    "tags": []
   },
   "outputs": [
    {
     "name": "stdout",
     "output_type": "stream",
     "text": [
      "I owe you 4.55 dollar\n",
      "I owe you 4.55 dollar\n"
     ]
    }
   ],
   "source": [
    "# fstrings\n",
    "print(f'I owe you {num} {sng}') # f\n",
    "print('I owe you {n} {s}'.format(n=num, s=sng))"
   ]
  },
  {
   "cell_type": "code",
   "execution_count": 4,
   "id": "2ac4f7c6",
   "metadata": {
    "execution": {
     "iopub.execute_input": "2024-03-19T06:59:58.190532Z",
     "iopub.status.busy": "2024-03-19T06:59:58.189763Z",
     "iopub.status.idle": "2024-03-19T06:59:58.197323Z",
     "shell.execute_reply": "2024-03-19T06:59:58.196140Z"
    },
    "papermill": {
     "duration": 0.016232,
     "end_time": "2024-03-19T06:59:58.200076",
     "exception": false,
     "start_time": "2024-03-19T06:59:58.183844",
     "status": "completed"
    },
    "tags": []
   },
   "outputs": [
    {
     "name": "stdout",
     "output_type": "stream",
     "text": [
      "a is the 1st letter of the alphabet\n",
      "b is the 2nd letter of the alphabet\n",
      "c is the 3rd letter of the alphabet\n",
      "d is the 4th letter of the alphabet\n",
      "e is the 5th letter of the alphabet\n",
      "f is the 6th letter of the alphabet\n",
      "g is the 7th letter of the alphabet\n",
      "h is the 8th letter of the alphabet\n",
      "i is the 9th letter of the alphabet\n",
      "j is the 10th letter of the alphabet\n",
      "k is the 11th letter of the alphabet\n",
      "l is the 12th letter of the alphabet\n",
      "m is the 13th letter of the alphabet\n",
      "n is the 14th letter of the alphabet\n",
      "o is the 15th letter of the alphabet\n",
      "p is the 16th letter of the alphabet\n",
      "q is the 17th letter of the alphabet\n",
      "r is the 18th letter of the alphabet\n",
      "s is the 19th letter of the alphabet\n",
      "t is the 20th letter of the alphabet\n",
      "u is the 21th letter of the alphabet\n",
      "v is the 22th letter of the alphabet\n",
      "w is the 23th letter of the alphabet\n",
      "x is the 24th letter of the alphabet\n",
      "y is the 25th letter of the alphabet\n",
      "z is the 26th letter of the alphabet\n"
     ]
    }
   ],
   "source": [
    "import string\n",
    "letters = string.ascii_lowercase # returns all the alphabet\n",
    "\n",
    "for i in range(len(letters)):\n",
    "    if i == 0:\n",
    "        ordind = 'st'\n",
    "    elif i == 1:\n",
    "        ordind = 'nd'\n",
    "    elif i == 2:\n",
    "        ordind = 'rd'\n",
    "    else:\n",
    "        ordind = 'th'\n",
    "    # print('{s} is the {ith}{ordi} letter of the alphabet'.format(s = letters[i], ith = i+1, ordi = ordind))\n",
    "    print(f'{letters[i]} is the {i+1}{ordind} letter of the alphabet')"
   ]
  },
  {
   "cell_type": "markdown",
   "id": "4b86084b",
   "metadata": {
    "papermill": {
     "duration": 0.004,
     "end_time": "2024-03-19T06:59:58.208499",
     "exception": false,
     "start_time": "2024-03-19T06:59:58.204499",
     "status": "completed"
    },
    "tags": []
   },
   "source": [
    "# Plotting\n",
    "Python does not have builtin plotting functions, so we need to import library in each time"
   ]
  },
  {
   "cell_type": "code",
   "execution_count": 5,
   "id": "37b7ecba",
   "metadata": {
    "execution": {
     "iopub.execute_input": "2024-03-19T06:59:58.218972Z",
     "iopub.status.busy": "2024-03-19T06:59:58.218564Z",
     "iopub.status.idle": "2024-03-19T06:59:58.732734Z",
     "shell.execute_reply": "2024-03-19T06:59:58.731287Z"
    },
    "papermill": {
     "duration": 0.522874,
     "end_time": "2024-03-19T06:59:58.735655",
     "exception": false,
     "start_time": "2024-03-19T06:59:58.212781",
     "status": "completed"
    },
    "tags": []
   },
   "outputs": [
    {
     "data": {
      "image/png": "[encoded data removed]",
      "text/plain": [
       "<Figure size 640x480 with 1 Axes>"
      ]
     },
     "metadata": {},
     "output_type": "display_data"
    },
    {
     "data": {
      "text/plain": [
       "[<matplotlib.lines.Line2D at 0x7b3f6d631300>]"
      ]
     },
     "execution_count": 5,
     "metadata": {},
     "output_type": "execute_result"
    },
    {
     "data": {
      "image/png": "[encoded data removed]",
      "text/plain": [
       "<Figure size 640x480 with 1 Axes>"
      ]
     },
     "metadata": {},
     "output_type": "display_data"
    }
   ],
   "source": [
    "import matplotlib.pyplot as plt # alias\n",
    "\n",
    "plt.plot(3,4, 'o') # put 3,4 in the center of plot and put circle there\n",
    "# we do NOT need \"hold on\", it is default in python\n",
    "plt.plot(2,4, 's')\n",
    "plt.show() # I am done with this plot, the rest of the code will be in another plot\n",
    "# otherwise, the below line would plot to the same figure\n",
    "\n",
    "plt.plot(121, 144, 's')"
   ]
  },
  {
   "cell_type": "code",
   "execution_count": 6,
   "id": "212870f2",
   "metadata": {
    "execution": {
     "iopub.execute_input": "2024-03-19T06:59:58.748823Z",
     "iopub.status.busy": "2024-03-19T06:59:58.748416Z",
     "iopub.status.idle": "2024-03-19T06:59:59.024553Z",
     "shell.execute_reply": "2024-03-19T06:59:59.023095Z"
    },
    "papermill": {
     "duration": 0.286642,
     "end_time": "2024-03-19T06:59:59.027722",
     "exception": false,
     "start_time": "2024-03-19T06:59:58.741080",
     "status": "completed"
    },
    "tags": []
   },
   "outputs": [
    {
     "data": {
      "image/png": "[encoded data removed]",
      "text/plain": [
       "<Figure size 640x480 with 1 Axes>"
      ]
     },
     "metadata": {},
     "output_type": "display_data"
    }
   ],
   "source": [
    "plt.plot(1,1, 'ro', label='red circle') # red o, legend\n",
    "plt.plot(2,2, 'bp', label='blue pentagon') # blue pentagon\n",
    "# activate legends \n",
    "plt.legend()\n",
    "plt.show()"
   ]
  },
  {
   "cell_type": "code",
   "execution_count": 7,
   "id": "c42a952b",
   "metadata": {
    "execution": {
     "iopub.execute_input": "2024-03-19T06:59:59.041991Z",
     "iopub.status.busy": "2024-03-19T06:59:59.040768Z",
     "iopub.status.idle": "2024-03-19T06:59:59.291022Z",
     "shell.execute_reply": "2024-03-19T06:59:59.289852Z"
    },
    "papermill": {
     "duration": 0.260303,
     "end_time": "2024-03-19T06:59:59.293700",
     "exception": false,
     "start_time": "2024-03-19T06:59:59.033397",
     "status": "completed"
    },
    "tags": []
   },
   "outputs": [
    {
     "data": {
      "image/png": "[encoded data removed]",
      "text/plain": [
       "<Figure size 640x480 with 1 Axes>"
      ]
     },
     "metadata": {},
     "output_type": "display_data"
    }
   ],
   "source": [
    "# Plotting Lines\n",
    "# for lines, we need to list in x and y corrdinate to draw a line btw 2 points\n",
    "plt.plot([0,1], [2,3], 'r') # red\n",
    "# you should NOT write [x,y] pairs as coordinates, you should write [x,x] as first item, then [y,y] as second\n",
    "# so you can have 10 lines, all x coordinates should be in first list and all y in the second list\n",
    "# with this, you dont have to write down 10 pairs \n",
    "plt.show()"
   ]
  }
 ],
 "metadata": {
  "kaggle": {
   "accelerator": "none",
   "dataSources": [],
   "dockerImageVersionId": 30664,
   "isGpuEnabled": false,
   "isInternetEnabled": true,
   "language": "python",
   "sourceType": "notebook"
  },
  "kernelspec": {
   "display_name": "Python 3",
   "language": "python",
   "name": "python3"
  },
  "language_info": {
   "codemirror_mode": {
    "name": "ipython",
    "version": 3
   },
   "file_extension": ".py",
   "mimetype": "text/x-python",
   "name": "python",
   "nbconvert_exporter": "python",
   "pygments_lexer": "ipython3",
   "version": "3.10.13"
  },
  "papermill": {
   "default_parameters": {},
   "duration": 6.144408,
   "end_time": "2024-03-19T06:59:59.820964",
   "environment_variables": {},
   "exception": null,
   "input_path": "__notebook__.ipynb",
   "output_path": "__notebook__.ipynb",
   "parameters": {},
   "start_time": "2024-03-19T06:59:53.676556",
   "version": "2.5.0"
  }
 },
 "nbformat": 4,
 "nbformat_minor": 5
}
